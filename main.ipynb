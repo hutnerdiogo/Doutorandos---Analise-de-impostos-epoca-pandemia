{
 "cells": [
  {
   "metadata": {},
   "cell_type": "markdown",
   "source": [
    "Importações de bibliotecas para manipulação de dados (pandas), arquivos (os, glob) e expressões regulares (re).\n",
    "\n",
    "Desativa avisos de atribuições encadeadas no pandas\n"
   ],
   "id": "4c18ec41d853b346"
  },
  {
   "metadata": {},
   "cell_type": "code",
   "source": [
    "import pandas as pd\n",
    "import os\n",
    "import glob\n",
    "import re\n",
    "\n",
    "pd.options.mode.chained_assignment = None"
   ],
   "id": "d6a28e91f9b97ec4",
   "outputs": [],
   "execution_count": null
  },
  {
   "metadata": {},
   "cell_type": "markdown",
   "source": [
    "Carrega os dados do arquivo CSV contendo códigos e nomes de cidades em um DataFrame\n",
    "\n",
    "Converte o DataFrame em um dicionário\n",
    "\n",
    "Cria um dicionário de conversão onde as chaves são os IDs e os valores são os nomes dos municípios\n",
    "\n",
    "Retorna o dicionário de conversão\n"
   ],
   "id": "9485c538dd3dd889"
  },
  {
   "metadata": {},
   "cell_type": "code",
   "source": [
    "# Carrega os dados do arquivo CSV contendo códigos e nomes de cidades em um DataFrame\n",
    "# Converte o DataFrame em um dicionário\n",
    "# Cria um dicionário de conversão onde as chaves são os IDs e os valores são os nomes dos municípios\n",
    "# Retorna o dicionário de conversão\n",
    "\n",
    "conv = pd.read_csv(\"Dados/Conv_codigo_nome_cidade.csv\")\n",
    "conv_dict = conv.to_dict()\n",
    "conversor = {conv_dict['ID'][f]:conv_dict['Município'][f] for f in conv_dict['ID']}\n",
    "conversor"
   ],
   "id": "3e91b0ab37e1ece3",
   "outputs": [],
   "execution_count": null
  },
  {
   "metadata": {},
   "cell_type": "markdown",
   "source": [
    "\n",
    "Obtém a lista de caminhos de arquivos CSV de receitas na pasta 'Dados'.\n",
    "\n",
    "Inicializa um dicionário para armazenar os DataFrames de receitas.\n",
    "\n",
    "Para cada caminho na lista de caminhos:\n",
    "\n",
    "- Extrai o ano do nome do arquivo usando expressões regulares.\n",
    "- Carrega o arquivo CSV em um DataFrame, pulando as primeiras 2 linhas, definindo a segunda linha como cabeçalho.\n",
    "- Filtra o DataFrame para manter apenas as colunas específicas: \"Cod.IBGE\", \"População\", \"Coluna\", \"Conta\", \"Valor\".\n",
    "- Adiciona o DataFrame ao dicionário, usando o ano como chave."
   ],
   "id": "49a59acdf17be4b"
  },
  {
   "metadata": {},
   "cell_type": "code",
   "source": [
    "path_planilhas_receitas = glob.glob(\"Dados/Receita *.csv\")\n",
    "planilhas_receitas = {}\n",
    "for path in path_planilhas_receitas:\n",
    "    planilhas_receitas.update({ re.findall(r\"\\d{4}\", path)[0]: \n",
    "        pd.read_csv(path, encoding=\"ANSI\", skiprows=2, header=1,sep=\";\", decimal=\",\").filter(items=[\"Cod.IBGE\", \"População\", \"Coluna\", \"Conta\", \"Valor\"])\n",
    "        })"
   ],
   "id": "dbc790d178c8dace",
   "outputs": [],
   "execution_count": null
  },
  {
   "metadata": {},
   "cell_type": "markdown",
   "source": [
    "---\n",
    "\n",
    "Inicializa um DataFrame vazio para armazenar os dados finais.\n",
    "\n",
    "Para cada ano nas planilhas de receitas:\n",
    "\n",
    "- Seleciona as receitas brutas realizadas.\n",
    "- Ajusta os códigos das contas dependendo do ano (2022 tem códigos diferentes).\n",
    "- Para o imposto sobre o patrimônio:\n",
    "  - Filtra as linhas correspondentes à conta de imposto sobre o patrimônio.\n",
    "  - Substitui os códigos IBGE pelos nomes dos municípios usando o dicionário de conversão.\n",
    "  - Remove as colunas \"Coluna\" e \"Conta\".\n",
    "  - Renomeia a coluna \"Valor\" para \"Impostos sobre o Patrimônio\".\n",
    "  - Adiciona uma coluna \"Ano\" com o respectivo ano.\n",
    "  - Define o índice como \"Cod.IBGE\" e \"Ano\".\n",
    "\n",
    "- Para o imposto sobre serviços:\n",
    "  - Filtra as linhas correspondentes à conta de imposto sobre serviços.\n",
    "  - Substitui os códigos IBGE pelos nomes dos municípios usando o dicionário de conversão.\n",
    "  - Remove as colunas \"Coluna\" e \"Conta\".\n",
    "  - Renomeia a coluna \"Valor\" para \"Impostos sobre Serviços\".\n",
    "  - Adiciona uma coluna \"Ano\" com o respectivo ano.\n",
    "  - Define o índice como \"Cod.IBGE\" e \"Ano\".\n",
    "\n",
    "- Para o imposto sobre renda retido na fonte:\n",
    "  - Filtra as linhas correspondentes à conta de imposto sobre renda.\n",
    "  - Substitui os códigos IBGE pelos nomes dos municípios usando o dicionário de conversão.\n",
    "  - Remove as colunas \"Coluna\" e \"Conta\".\n",
    "  - Renomeia a coluna \"Valor\" para \"Impostos sobre Renda Retido na fonte\".\n",
    "  - Adiciona uma coluna \"Ano\" com o respectivo ano.\n",
    "  - Define o índice como \"Cod.IBGE\" e \"Ano\".\n",
    "\n",
    "- Mescla os DataFrames de imposto sobre o patrimônio e imposto sobre serviços usando o índice, mantendo todas as linhas.\n",
    "- Mescla o resultado com o DataFrame de imposto sobre renda retido na fonte, mantendo todas as linhas.\n",
    "- Remove colunas duplicadas geradas pela mesclagem.\n",
    "- Se o DataFrame final estiver vazio, atribui o DataFrame completo.\n",
    "- Caso contrário, concatena o DataFrame completo ao DataFrame final.\n"
   ],
   "id": "d72db2335d25b783"
  },
  {
   "metadata": {},
   "cell_type": "code",
   "source": [
    "df_final = pd.DataFrame()\n",
    "\n",
    "for ano in planilhas_receitas:\n",
    "    planilha = planilhas_receitas[ano]\n",
    "    \n",
    "    receitas = planilha[planilha['Coluna'] == \"Receitas Brutas Realizadas\"]\n",
    "    \n",
    "    if ano != \"2022\":\n",
    "        # imposto_patrimonio = receitas[receitas['Conta'] == \"1.1.1.8.01.0.0 Impostos sobre o Patrimônio para Estados/DF/Municípios\"]\n",
    "        imposto_patrimonio = receitas[receitas['Conta'].str.contains(r\"(1.1.1.8.01.0.0)\")]\n",
    "        # imposto_iss = receitas[receitas['Conta'] == \"1.1.1.8.02.3.0 Imposto sobre Serviços de Qualquer Natureza\"]\n",
    "        imposto_iss = receitas[receitas['Conta'].str.contains(r\"(1.1.1.8.02.3.0)\")]\n",
    "    else:\n",
    "        # No ano de 2022 algumas contas tiveram o codigo alterado, com isso é necessario o ajuste:\n",
    "        imposto_patrimonio = receitas[receitas['Conta'].str.contains(r\"(1.1.1.2.00.0.0)\")]\n",
    "        imposto_iss = receitas[receitas['Conta'].str.contains(r\"(1.1.1.4.51.1.0)\")]\n",
    "    \n",
    "    #imposto_rf = receitas[receitas['Conta'] == \"1.1.1.3.00.0.0 - Impostos sobre a Renda e Proventos de Qualquer Natureza\"]\n",
    "    # O imposto de renda não preciso do ajuste\n",
    "    imposto_rf = receitas[receitas['Conta'].str.contains(r\"(1.1.1.3.00.0.0)\")]\n",
    "    \n",
    "    imposto_patrimonio.loc[:, \"Municipio\"] = imposto_patrimonio.replace({\"Cod.IBGE\": conversor})['Cod.IBGE'].tolist()\n",
    "    imposto_patrimonio.drop([\"Coluna\", \"Conta\"], axis=1,inplace=True)\n",
    "    imposto_patrimonio = imposto_patrimonio.rename(columns={\"Valor\":\"Impostos sobre o Patrimônio\"})\n",
    "    imposto_patrimonio.loc[:, \"Ano\"] = ano\n",
    "    imposto_patrimonio.set_index([\"Cod.IBGE\", \"Ano\"], inplace=True)\n",
    "    \n",
    "\n",
    "    imposto_iss.loc[:, \"Municipio\"] = imposto_iss.replace({\"Cod.IBGE\": conversor})['Cod.IBGE'].tolist()\n",
    "    imposto_iss.drop([\"Coluna\", \"Conta\"], axis=1,inplace=True)\n",
    "    imposto_iss = imposto_iss.rename(columns={\"Valor\":\"Impostos sobre Serviços\"})\n",
    "    imposto_iss.loc[:, \"Ano\"] = ano\n",
    "    imposto_iss.set_index([\"Cod.IBGE\", \"Ano\"], inplace=True)\n",
    "    \n",
    "\n",
    "    imposto_rf.loc[:, \"Municipio\"] = imposto_rf.replace({\"Cod.IBGE\": conversor})['Cod.IBGE'].tolist()\n",
    "    imposto_rf.drop([\"Coluna\", \"Conta\"], axis=1,inplace=True)\n",
    "    imposto_rf = imposto_rf.rename(columns={\"Valor\":\"Impostos sobre Renda Retido na fonte\"})\n",
    "    imposto_rf.loc[:, \"Ano\"] = ano\n",
    "    imposto_rf.set_index([\"Cod.IBGE\", \"Ano\"], inplace=True)\n",
    "    \n",
    "    df_mesclada = imposto_patrimonio.merge(imposto_iss, left_index=True, right_index=True, how=\"outer\", suffixes=('', '_y'))\n",
    "    df_mesclada.drop(df_mesclada.filter(regex='_y$').columns, axis=1, inplace=True)\n",
    "    df_completa = df_mesclada.merge(imposto_rf, left_index=True, right_index=True, how=\"outer\", suffixes=('', '_y'))\n",
    "    df_completa.drop(df_completa.filter(regex='_y$').columns, axis=1, inplace=True)\n",
    "    \n",
    "    if df_final.empty:\n",
    "        df_final = df_completa\n",
    "    else: \n",
    "        df_final = pd.concat([df_final, df_completa], axis=0)\n",
    "    "
   ],
   "id": "a99855ee44834203",
   "outputs": [],
   "execution_count": null
  },
  {
   "metadata": {},
   "cell_type": "markdown",
   "source": [
    "---\n",
    "\n",
    "Ordena o DataFrame final pelo índice.\n",
    "\n",
    "Cria uma cópia do DataFrame final para testes.\n",
    "\n",
    "Obtém uma lista de índices onde há valores nulos em qualquer coluna.\n",
    "\n",
    "Inicializa um dicionário para armazenar os códigos de IBGE e os anos correspondentes aos valores nulos.\n",
    "\n",
    "Para cada índice na lista de índices:\n",
    "\n",
    "- Se o código IBGE não estiver no dicionário, adiciona o código com uma lista contendo o ano correspondente.\n",
    "- Se o código IBGE já estiver no dicionário, adiciona o ano correspondente à lista existente.\n",
    "\n",
    "---"
   ],
   "id": "2b65c5cd0aac8994"
  },
  {
   "metadata": {},
   "cell_type": "code",
   "source": [
    "df_final.sort_index(inplace=True)\n",
    "testes = df_final\n",
    "indexes = list(testes.isnull().any(axis=1).index)\n",
    "codigos = {}\n",
    "for index in indexes:\n",
    "    if index[0] not in codigos:\n",
    "        codigos.update({index[0]:[index[1]]})\n",
    "    else:\n",
    "        codigos[index[0]].append(index[1])"
   ],
   "id": "f6339c208110e398",
   "outputs": [],
   "execution_count": null
  },
  {
   "metadata": {},
   "cell_type": "markdown",
   "source": [
    "---\n",
    "\n",
    "Inicializa uma lista para armazenar códigos com erros.\n",
    "\n",
    "Cria uma série booleana que indica quais linhas têm valores nulos.\n",
    "\n",
    "Para cada código de IBGE no dicionário de códigos:\n",
    "\n",
    "- Se o código não tiver 5 anos associados, adiciona o código à lista de erros e continua para o próximo código.\n",
    "- Para cada ano associado ao código:\n",
    "  - Se houver valores nulos na linha correspondente ao código e ano, adiciona o código à lista de erros e interrompe a verificação dos anos para esse código.\n",
    "\n",
    "---"
   ],
   "id": "9e2680095fa4df36"
  },
  {
   "metadata": {},
   "cell_type": "code",
   "source": [
    "erros = []\n",
    "testes_null = testes.isnull().any(axis=1)\n",
    "for codigo in codigos:\n",
    "    if len(codigos[codigo]) != 5:\n",
    "        erros.append(codigo)\n",
    "        continue\n",
    "    for ano in codigos[codigo]:\n",
    "        if testes_null.loc[(codigo, ano)]:\n",
    "            erros.append(codigo)\n",
    "            break\n",
    "            \n",
    "        "
   ],
   "id": "c7edafbe0de8048b",
   "outputs": [],
   "execution_count": null
  },
  {
   "metadata": {},
   "cell_type": "markdown",
   "source": [
    "---\n",
    "\n",
    "Copia o DataFrame final para `df_bruta`.\n",
    "\n",
    "Cria um DataFrame `df_limpa` excluindo as linhas que têm códigos de IBGE presentes na lista de erros.\n",
    "\n",
    "Cria um DataFrame `df_erros` com os códigos de IBGE com erros e seus respectivos nomes de municípios.\n",
    "\n",
    "Obtém uma lista ordenada de códigos de IBGE sem erros.\n",
    "\n",
    "Cria um DataFrame `df_sucesso` com os códigos de IBGE sem erros e seus respectivos nomes de municípios.\n",
    "\n",
    "---"
   ],
   "id": "7e955f71fa2f7d12"
  },
  {
   "metadata": {},
   "cell_type": "code",
   "source": [
    "df_bruta = df_final\n",
    "\n",
    "df_limpa = df_final[~df_final.index.get_level_values('Cod.IBGE').isin(erros)]\n",
    "\n",
    "df_erros = pd.DataFrame({'Cod.IBGE': erros, \"Municipios\": [conversor[f] for f in erros]})\n",
    "\n",
    "sucesso = sorted(list(set(df_limpa.index.get_level_values(\"Cod.IBGE\"))))\n",
    "df_sucesso = pd.DataFrame({\"Cod.IBGE\": sucesso, \"Municipios\": [conversor[f] for f in sucesso]})\n"
   ],
   "id": "cacd6493b587b1ca",
   "outputs": [],
   "execution_count": null
  },
  {
   "metadata": {},
   "cell_type": "markdown",
   "source": [
    "---\n",
    "\n",
    "Cria um objeto `ExcelWriter` para salvar os DataFrames em um arquivo Excel chamado \"Output.xlsx\".\n",
    "\n",
    "Salva o DataFrame `df_bruta` na planilha \"Dados Brutos\", incluindo as colunas \"População\", \"Município\", \"Impostos sobre o Patrimônio\", \"Impostos sobre Serviços\" e \"Impostos sobre Renda Retido na fonte\", sem mesclar células.\n",
    "\n",
    "Salva o DataFrame `df_limpa` na planilha \"Dados Limpos\", incluindo as colunas \"População\", \"Município\", \"Impostos sobre o Patrimônio\", \"Impostos sobre Serviços\" e \"Impostos sobre Renda Retido na fonte\", sem mesclar células.\n",
    "\n",
    "Salva o DataFrame `df_erros` na planilha \"Erros\", sem incluir o índice.\n",
    "\n",
    "Salva o DataFrame `df_sucesso` na planilha \"Sucessos\", sem incluir o índice.\n",
    "\n",
    "Fecha o objeto `ExcelWriter` para salvar o arquivo.\n",
    "\n",
    "---"
   ],
   "id": "2ecd9fea7ad4d8c0"
  },
  {
   "metadata": {},
   "cell_type": "code",
   "source": [
    "writer = pd.ExcelWriter(\"Output.xlsx\",engine='openpyxl')   \n",
    "df_bruta.to_excel(writer, sheet_name=\"Dados Brutos\", columns=[\"População\",\"Municipio\", \"Impostos sobre o Patrimônio\", \"Impostos sobre Serviços\", \"Impostos sobre Renda Retido na fonte\"], merge_cells=False)\n",
    "df_limpa.to_excel(writer, sheet_name=\"Dados Limpos\", columns=[\"População\",\"Municipio\", \"Impostos sobre o Patrimônio\", \"Impostos sobre Serviços\", \"Impostos sobre Renda Retido na fonte\"], merge_cells=False)   \n",
    "df_erros.to_excel(writer, sheet_name=\"Erros\", index=False)\n",
    "df_sucesso.to_excel(writer, sheet_name=\"Sucessos\", index=False)\n",
    "writer.close()"
   ],
   "id": "820ecf63f1c58434",
   "outputs": [],
   "execution_count": null
  }
 ],
 "metadata": {
  "kernelspec": {
   "display_name": "Python 3",
   "language": "python",
   "name": "python3"
  },
  "language_info": {
   "codemirror_mode": {
    "name": "ipython",
    "version": 2
   },
   "file_extension": ".py",
   "mimetype": "text/x-python",
   "name": "python",
   "nbconvert_exporter": "python",
   "pygments_lexer": "ipython2",
   "version": "2.7.6"
  }
 },
 "nbformat": 4,
 "nbformat_minor": 5
}
